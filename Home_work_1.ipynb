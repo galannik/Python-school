{
 "cells": [
  {
   "cell_type": "code",
   "execution_count": 3,
   "id": "d02afe79",
   "metadata": {},
   "outputs": [
    {
     "name": "stdout",
     "output_type": "stream",
     "text": [
      "Фраза 1 длинее фразы 2\n"
     ]
    }
   ],
   "source": [
    "phrase_1 = 'Насколько проще было бы писать программы, если бы не заказчики'\n",
    "phrase_2 = '640Кб должно хватить для любых задач. Билл Гейтс (по легенде)'\n",
    "if phrase_1 > phrase_2:\n",
    "    print('Фраза 1 длинее фразы 2')\n",
    "elif phrase_1 < prase_2:\n",
    "    print('Фраза 2 длинее фразы 1')\n",
    "else:\n",
    "    print('Фразы равной длины')"
   ]
  },
  {
   "cell_type": "code",
   "execution_count": null,
   "id": "a228bb6e",
   "metadata": {},
   "outputs": [],
   "source": [
    "year = int(input('Введите год: '))\n",
    "if (year % 4 == 0 and year % 100 != 0) or (year % 400 == 0):\n",
    "    print('Високосный год')\n",
    "else:\n",
    "    print('Обычный год')"
   ]
  },
  {
   "cell_type": "code",
   "execution_count": 6,
   "id": "76b24a6e",
   "metadata": {},
   "outputs": [
    {
     "name": "stdout",
     "output_type": "stream",
     "text": [
      "Введите день рождения: 02\n",
      "Введите месяц рождения: 12\n",
      "Знак зодиака:Стрелец\n"
     ]
    }
   ],
   "source": [
    "date=int(input(\"Введите день рождения: \"))\n",
    "month=int(input(\"Введите месяц рождения: \"))\n",
    "if (date>=21 and date<=31 and month==3) or( month==4 and date>=1 and date<=19):\n",
    "   print(\"Знак зодиака:Овен\")\n",
    "elif (date>=20 and date<=30 and month==4) or( month==5 and date>=1 and date<=20):\n",
    "   print(\"Знак зодиака:Телец\")\n",
    "elif (date>=21 and date<=31 and month==5) or( month==6 and date>=1 and date<=21):\n",
    "   print(\"Знак зодиака:Близнецы\")\n",
    "elif (date>=22 and date<=30 and month==6) or( month==7 and date>=1 and date<=22):\n",
    "   print(\"Знак зодиака:Рак\")\n",
    "elif (date>=23 and date<=31 and month==7) or( month==8 and date>=1 and date<=22):\n",
    "   print(\"Знак зодиака:Лев\")\n",
    "elif (date>=23 and date<=31 and month==8) or( month==9 and date>=1 and date<=22):\n",
    "   print(\"Знак зодиака:Дева\")\n",
    "elif (date>=23 and date<=30 and month==9) or( month==10 and date>=1 and date<=23):\n",
    "   print(\"Знак зодиака:Весы\")\n",
    "elif (date>=24 and date<=31 and month==10) or( month==11 and date>=1 and date<=22):\n",
    "   print(\"Знак зодиака:Скорпион\")\n",
    "elif (date>=23 and date<=30 and month==11) or( month==12 and date>=1 and date<=21):\n",
    "   print(\"Знак зодиака:Стрелец\")\n",
    "elif (date>=22 and date<=31 and month==12) or( month==1 and date>=1 and date<=20):\n",
    "   print(\"Знак зодиака:Козерог\")\n",
    "elif (date>=21 and date<=31 and month==1) or( month==2 and date>=1 and date<=18):\n",
    "   print(\"Знак зодиака:Водолей\")\n",
    "elif (date>=19 and date<=29 and month==2) or( month==3 and date>=1 and date<=20):\n",
    "   print(\"Знак зодиака:Рыбы\")\n",
    "else:\n",
    "    print(\"Знак зодиака определен\")"
   ]
  },
  {
   "cell_type": "code",
   "execution_count": null,
   "id": "ebd267a8",
   "metadata": {},
   "outputs": [],
   "source": [
    "width = int(input('Введите ширину: '))\n",
    "length = int(input('Введите длину: '))\n",
    "heigth = int(input('Введите высоту: '))\n",
    "if width < 15 and length < 15 and heigth < 15:\n",
    "    print('Коробка №1')\n",
    "elif ((width > 15 and width < 50) or (length > 15 and length < 50) or (heigth > 15 and heigth < 50)):\n",
    "    print('Коробка №2')\n",
    "elif length > 200:\n",
    "    print('ишите упаковку для лыж')\n",
    "else:\n",
    "    print('Стандартная коробка №3')\n",
    "print('Подбор упаковки завершен')"
   ]
  },
  {
   "cell_type": "code",
   "execution_count": 2,
   "id": "04101708",
   "metadata": {},
   "outputs": [
    {
     "name": "stdout",
     "output_type": "stream",
     "text": [
      "number123321\n",
      "Счастливый билет\n"
     ]
    }
   ],
   "source": [
    "num = int(input('number'))\n",
    "sum_1 = num//1000\n",
    "one = sum_1 // 100\n",
    "two = sum_1 // 10 % 10    \n",
    "three = sum_1 % 10\n",
    "sum_2 = num % 1000\n",
    "four = sum_2 // 100\n",
    "five = sum_2 // 10 % 10\n",
    "six = sum_2 % 10\n",
    "if (one+two+three)==(four+five+six):\n",
    "    print('Счастливый билет')\n",
    "else:\n",
    "    print('Обычный билет')"
   ]
  },
  {
   "cell_type": "code",
   "execution_count": 5,
   "id": "e163590b",
   "metadata": {},
   "outputs": [
    {
     "ename": "SyntaxError",
     "evalue": "invalid syntax (<ipython-input-5-56c2eacdc8aa>, line 2)",
     "output_type": "error",
     "traceback": [
      "\u001b[1;36m  File \u001b[1;32m\"<ipython-input-5-56c2eacdc8aa>\"\u001b[1;36m, line \u001b[1;32m2\u001b[0m\n\u001b[1;33m    triangle = int(input('Введите число')\u001b[0m\n\u001b[1;37m    ^\u001b[0m\n\u001b[1;31mSyntaxError\u001b[0m\u001b[1;31m:\u001b[0m invalid syntax\n"
     ]
    }
   ],
   "source": [
    "figure = input('Введите тип фигуры')\n",
    "if figure == 'Треугольник':\n",
    "    circle = int(input('Введите радиус круга'))\n",
    "    s = 3.14 * (circle **2)\n",
    "    print('Площадь круга: ', circle_s)\n",
    "if figure == triangle:\n",
    "    if figure == triangle:\n",
    "    triangle_a = int(input('Введите длину строны A: '))\n",
    "    triangle_b = int(input('Введите длину строны B: '))\n",
    "    triangle_c = int(input('Введите длину строны C: '))\n",
    "    triangle_p = (triangle_a + triangle_b + triangle_c)/2\n",
    "    triangle_s = (triangle_p * (triangle_p - triangle_a)*(triangle_p - triangle_b)*(triangle_p - triangle_c))**0.5\n",
    "    print('Площадь треугольника: ', triangle_s)\n",
    "if figure == rectangle:\n",
    "    if figure == rectangle:\n",
    "    rectangle_a = int(input('Введите длину строны A'))\n",
    "    rectangle_b = int(input('Введите длину строны B'))\n",
    "    rectangle_s = rectangle_a * rectangle_b\n",
    "    print('Площадь прямоугольника: ', rectangle_s)\n",
    "else:\n",
    "    print('Какой-такой фигура?')\n",
    "print('Конец программы')"
   ]
  },
  {
   "cell_type": "code",
   "execution_count": 15,
   "id": "58a4a472",
   "metadata": {},
   "outputs": [
    {
     "name": "stdout",
     "output_type": "stream",
     "text": [
      "Введите тип фигуры: Треугольник\n",
      "Введите длину строны A: 2\n",
      "Введите длину строны B: 2\n",
      "Введите длину строны C: 3\n",
      "Площадь равна: 1.984313483298443\n"
     ]
    }
   ],
   "source": [
    "figure = input('Введите тип фигуры: ')\n",
    "if figure == 'Круг':\n",
    "    r = int(input('Введите радиус круга: '))\n",
    "    s = 3.14 * (r **2)\n",
    "elif figure == 'Треугольник':\n",
    "    a = int(input('Введите длину строны A: '))\n",
    "    b = int(input('Введите длину строны B: '))\n",
    "    c = int(input('Введите длину строны C: '))\n",
    "    p = (a + b + c)/2\n",
    "    s = (p * (p - a)*(p - b)*(p - c))**0.5\n",
    "elif figure == 'Прямоугольник':\n",
    "    a = int(input('Введите длину строны A: '))\n",
    "    b = int(input('Введите длину строны B: '))\n",
    "    s = a * b\n",
    "print('Площадь равна:', s)"
   ]
  },
  {
   "cell_type": "code",
   "execution_count": 1,
   "id": "cb05c004",
   "metadata": {},
   "outputs": [
    {
     "ename": "NameError",
     "evalue": "name 'rdjrezj' is not defined",
     "output_type": "error",
     "traceback": [
      "\u001b[1;31m---------------------------------------------------------------------------\u001b[0m",
      "\u001b[1;31mNameError\u001b[0m                                 Traceback (most recent call last)",
      "\u001b[1;32m<ipython-input-1-a2146dec9958>\u001b[0m in \u001b[0;36m<module>\u001b[1;34m\u001b[0m\n\u001b[1;32m----> 1\u001b[1;33m \u001b[0mrdjrezj\u001b[0m\u001b[1;33m\u001b[0m\u001b[1;33m\u001b[0m\u001b[0m\n\u001b[0m",
      "\u001b[1;31mNameError\u001b[0m: name 'rdjrezj' is not defined"
     ]
    }
   ],
   "source": [
    "rdjrezj"
   ]
  },
  {
   "cell_type": "code",
   "execution_count": null,
   "id": "df3425aa",
   "metadata": {},
   "outputs": [],
   "source": []
  }
 ],
 "metadata": {
  "kernelspec": {
   "display_name": "Python 3",
   "language": "python",
   "name": "python3"
  },
  "language_info": {
   "codemirror_mode": {
    "name": "ipython",
    "version": 3
   },
   "file_extension": ".py",
   "mimetype": "text/x-python",
   "name": "python",
   "nbconvert_exporter": "python",
   "pygments_lexer": "ipython3",
   "version": "3.8.8"
  }
 },
 "nbformat": 4,
 "nbformat_minor": 5
}
